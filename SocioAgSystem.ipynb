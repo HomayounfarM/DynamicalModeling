{
  "nbformat": 4,
  "nbformat_minor": 0,
  "metadata": {
    "colab": {
      "private_outputs": true,
      "provenance": [],
      "collapsed_sections": [
        "H36YKWOC9Ll_"
      ],
      "authorship_tag": "ABX9TyPwb0phtvuKm8bqrtQDXoq7",
      "include_colab_link": true
    },
    "kernelspec": {
      "name": "python3",
      "display_name": "Python 3"
    },
    "language_info": {
      "name": "python"
    }
  },
  "cells": [
    {
      "cell_type": "markdown",
      "metadata": {
        "id": "view-in-github",
        "colab_type": "text"
      },
      "source": [
        "<a href=\"https://colab.research.google.com/github/HomayounfarM/DynamicalModeling/blob/main/SocioAgSystem.ipynb\" target=\"_parent\"><img src=\"https://colab.research.google.com/assets/colab-badge.svg\" alt=\"Open In Colab\"/></a>"
      ]
    },
    {
      "cell_type": "code",
      "execution_count": null,
      "metadata": {
        "id": "CVVNSyH0AtXs"
      },
      "outputs": [],
      "source": [
        "import numpy as np\n",
        "import pandas as pd\n",
        "import matplotlib.pyplot as plt"
      ]
    },
    {
      "cell_type": "markdown",
      "source": [
        "## Parameters"
      ],
      "metadata": {
        "id": "3zLAzdhWBmZe"
      }
    },
    {
      "cell_type": "code",
      "source": [
        "P_b = 5\n",
        "P_m = 4\n",
        "P_0 = 1\n",
        "X = 5\n",
        "pr = 2\n",
        "w = 5\n",
        "A = 5\n",
        "h = 1\n",
        "k = 1\n",
        "N = 1000\n",
        "r = 0.2\n",
        "r_prime = 0.1\n",
        "l = 150\n",
        "a_prime = -5\n",
        "b_prime = 15\n",
        "I = 0.01\n",
        "f = 3\n",
        "C = 0.5\n",
        "max_num = 1000"
      ],
      "metadata": {
        "id": "sTbfEeQ-BlyO"
      },
      "execution_count": null,
      "outputs": []
    },
    {
      "cell_type": "markdown",
      "source": [
        "## Non-dimentionalized numbers"
      ],
      "metadata": {
        "id": "zOaPyGRfA-P3"
      }
    },
    {
      "cell_type": "code",
      "source": [
        "alpha = P_b/(P_m-P_0)\n",
        "beta = P_0/(P_m-P_0)\n",
        "ro = (X*pr)/w\n",
        "gamma = (A*P_b)/w\n",
        "theta = h/w\n",
        "delta = (w*k)/(N*r)\n",
        "sigma = l/(N*r)\n",
        "omega = r_prime/r\n",
        "x0 = P_0/P_b\n",
        "xm = P_m/P_b\n",
        "a = a_prime/(N*I)\n",
        "b = b_prime/(N*I)\n",
        "\n",
        "print(f'alpha = {alpha}')\n",
        "print(f'beta = {beta}')\n",
        "print(f'ro = {ro}')\n",
        "print(f'gamma = {gamma}')\n",
        "print(f'theta = {theta}')\n",
        "print(f'delta = {delta}')\n",
        "print(f'sigma = {sigma}')\n",
        "print(f'omega = {omega}')\n",
        "print(f'x0 = {x0}')\n",
        "print(f'xm = {xm}')\n",
        "print(f'a = {a}')\n",
        "print(f'b = {b}')"
      ],
      "metadata": {
        "id": "w7lkC7f4A9C3"
      },
      "execution_count": null,
      "outputs": []
    },
    {
      "cell_type": "markdown",
      "source": [
        "# Plot Utility function and Fine function"
      ],
      "metadata": {
        "id": "kKoCR3T6ERS0"
      }
    },
    {
      "cell_type": "code",
      "source": [
        "s = np.linspace(0, 1, max_num)\n",
        "\n",
        "x = np.linspace(0, 1, max_num)\n",
        "\n",
        "fig, axs = plt.subplots(1,2, figsize = [15,5])\n",
        "axs[0].plot(s, Utility(s, a, b))\n",
        "axs[0].set_xlabel('S')\n",
        "axs[0].set_ylabel('Utility (Level of satisfaction)')\n",
        "axs[1].plot(x, Fine(x, alpha, beta, x0, xm))\n",
        "axs[1].set_ylabel('Fine')\n",
        "axs[1].set_xlabel('x')"
      ],
      "metadata": {
        "id": "sRYINX8qEQI8"
      },
      "execution_count": null,
      "outputs": []
    },
    {
      "cell_type": "markdown",
      "source": [
        "## Pay-offs BAU"
      ],
      "metadata": {
        "id": "ZDO2sCtjRQTU"
      }
    },
    {
      "cell_type": "code",
      "source": [
        "x_tempo = np.linspace(0, 1, max_num)\n",
        "s_tempo = np.linspace(0, 1, max_num)\n",
        "SS, XX = np.meshgrid(s_tempo, x_tempo)\n",
        "\n",
        "pi_bau = np.zeros([len(x_tempo), len(s_tempo)])\n",
        "\n",
        "for i, si in enumerate(s_tempo):\n",
        "  for j, xi in enumerate(x_tempo):\n",
        "    pi_bau[j, i] = Utility(si, a, b)*ro*(1-Fine(xi, alpha, beta, x0, xm))\n",
        "\n",
        "fig, ax = plt.subplots(figsize=(10,10), subplot_kw={\"projection\": \"3d\"})\n",
        "ax.plot_surface(SS, XX, pi_bau, linewidth=0, antialiased=False)\n",
        "ax.set_xlabel('s')\n",
        "ax.set_ylabel('x')\n",
        "ax.set_zlabel('Pi_BAU');\n",
        "ax.view_init(10, -20)"
      ],
      "metadata": {
        "id": "RWqUQ_uoRVwU"
      },
      "execution_count": null,
      "outputs": []
    },
    {
      "cell_type": "markdown",
      "source": [
        "## Pay-offs BMP"
      ],
      "metadata": {
        "id": "_FiQrpL3Kmrj"
      }
    },
    {
      "cell_type": "code",
      "source": [
        "x_tempo = np.linspace(0, 1, max_num)\n",
        "s_tempo = np.linspace(0, 1, max_num)\n",
        "SS, XX = np.meshgrid(s_tempo, x_tempo)\n",
        "\n",
        "pi_BMP = np.zeros([len(x_tempo), len(s_tempo)])\n",
        "\n",
        "for i, si in enumerate(s_tempo):\n",
        "  for j, xi in enumerate(x_tempo):\n",
        "    pi_BMP[j, i] = Utility(si, a, b)*gamma*xi+theta\n",
        "\n",
        "fig, ax = plt.subplots(figsize=(10,10), subplot_kw={\"projection\": \"3d\"})\n",
        "ax.plot_surface(SS, XX, pi_BMP, linewidth=0, antialiased=False)\n",
        "ax.set_xlabel('s')\n",
        "ax.set_ylabel('x')\n",
        "ax.set_zlabel('pi_BMP');\n",
        "ax.view_init(10, -20)"
      ],
      "metadata": {
        "id": "rgnDOTYy9oY6"
      },
      "execution_count": null,
      "outputs": []
    },
    {
      "cell_type": "markdown",
      "source": [
        "## Pay-offs"
      ],
      "metadata": {
        "id": "dRqBzABUKqGD"
      }
    },
    {
      "cell_type": "code",
      "source": [
        "x_tempo = np.linspace(0, 1, max_num)\n",
        "s_tempo = np.linspace(0, 1, max_num)\n",
        "SS, XX = np.meshgrid(s_tempo, x_tempo)\n",
        "\n",
        "pi_BMP = np.zeros([len(x_tempo), len(s_tempo)])\n",
        "\n",
        "for i, si in enumerate(s_tempo):\n",
        "  for j, xi in enumerate(x_tempo):\n",
        "    pi_bau[j, i] = Utility(si, a, b)*ro*(1-Fine(xi, alpha, beta, x0, xm))\n",
        "    pi_BMP[j, i] = Utility(si, a, b)*gamma*xi+theta\n",
        "\n",
        "fig, ax = plt.subplots(figsize=(10,10), subplot_kw={\"projection\": \"3d\"})\n",
        "ax.plot_surface(SS, XX, pi_BMP, linewidth=0, antialiased=False)\n",
        "ax.plot_surface(SS, XX, pi_bau, linewidth=0, antialiased=False)\n",
        "ax.set_xlabel('s')\n",
        "ax.set_ylabel('x')\n",
        "ax.set_zlabel('pi_BMP');\n",
        "ax.view_init(10, 180)"
      ],
      "metadata": {
        "id": "PysCwuJpKrcj"
      },
      "execution_count": null,
      "outputs": []
    },
    {
      "cell_type": "markdown",
      "source": [
        "## ds/dt=0"
      ],
      "metadata": {
        "id": "DPyxBTLA7H9M"
      }
    },
    {
      "cell_type": "code",
      "source": [
        "x_tempo = np.linspace(0.1, 1, max_num)\n",
        "s_tempo = np.linspace(0.1, 1, max_num)\n",
        "SS, XX = np.meshgrid(s_tempo, x_tempo)\n",
        "\n",
        "y_tempo = np.zeros([len(x_tempo), len(s_tempo)])\n",
        "\n",
        "for i, si in enumerate(s_tempo):\n",
        "  for j, xi in enumerate(x_tempo):\n",
        "    y_tempo[j, i] = 1/((1-omega)*si)-xi-((omega+sigma)/(1-omega))\n",
        "\n",
        "fig, ax = plt.subplots(figsize=(10,10), subplot_kw={\"projection\": \"3d\"})\n",
        "ax.plot_surface(SS, XX, y_tempo, linewidth=0, antialiased=False)\n",
        "ax.set_xlabel('s')\n",
        "ax.set_ylabel('x')\n",
        "ax.set_zlabel('y_tempo');\n",
        "#ax.set_zlim([0, 10])\n",
        "ax.view_init(10, -60)\n",
        "\n"
      ],
      "metadata": {
        "id": "PKjkypBt7Ee9"
      },
      "execution_count": null,
      "outputs": []
    },
    {
      "cell_type": "markdown",
      "source": [
        "## dx/dt=0"
      ],
      "metadata": {
        "id": "UraFHOBwEons"
      }
    },
    {
      "cell_type": "code",
      "source": [
        "x_tempo = np.linspace(0, 1, max_num)\n",
        "s_tempo = np.linspace(0, 1, max_num)\n",
        "SS, XX = np.meshgrid(s_tempo, x_tempo)\n",
        "\n",
        "y_tempo = np.zeros([len(x_tempo), len(s_tempo)])\n",
        "\n",
        "for i, si in enumerate(s_tempo):\n",
        "  for j, xi in enumerate(x_tempo):\n",
        "    y_tempo[j, i] = ((1-xi)*(ro*Utility(si, a, b)*(1-C*Fine(xi, alpha, beta, x0, xm))-1))/(Utility(si, a, b)*(gamma*xi+theta)-1)\n",
        "\n",
        "fig, ax = plt.subplots(figsize=(10,10), subplot_kw={\"projection\": \"3d\"})\n",
        "ax.plot_surface(SS, XX, y_tempo, linewidth=0, antialiased=False)\n",
        "ax.set_xlabel('s')\n",
        "ax.set_ylabel('x')\n",
        "ax.set_zlabel('dsdt');\n",
        "ax.view_init(10, -30)\n"
      ],
      "metadata": {
        "id": "yP6GNRfrEr-P"
      },
      "execution_count": null,
      "outputs": []
    },
    {
      "cell_type": "markdown",
      "source": [
        "## dy/dt=0"
      ],
      "metadata": {
        "id": "dknokk3QHg3K"
      }
    },
    {
      "cell_type": "code",
      "source": [
        "x_tempo = np.linspace(0, 1, max_num)\n",
        "s_tempo = np.linspace(0, 1, max_num)\n",
        "SS, XX = np.meshgrid(s_tempo, x_tempo)\n",
        "\n",
        "y_tempo = np.zeros([len(x_tempo), len(s_tempo)])\n",
        "\n",
        "for i, si in enumerate(s_tempo):\n",
        "  for j, xi in enumerate(x_tempo):\n",
        "    y_tempo[j, i] = 1-((xi*(ro*Utility(si, a, b)*(1-C*Fine(xi, alpha, beta, x0, xm))-1))/(Utility(si, a, b)*(gamma*xi+theta)-1))\n",
        "\n",
        "\n",
        "fig, ax = plt.subplots(figsize=(10,10), subplot_kw={\"projection\": \"3d\"})\n",
        "ax.plot_surface(SS, XX, y_tempo, linewidth=0, antialiased=False)\n",
        "ax.set_xlabel('s')\n",
        "ax.set_ylabel('x')\n",
        "ax.set_zlabel('dsdt');\n",
        "ax.view_init(10, -30)"
      ],
      "metadata": {
        "id": "UbBBPpTJHgYg"
      },
      "execution_count": null,
      "outputs": []
    },
    {
      "cell_type": "markdown",
      "source": [
        "## Plot Socio-Agriculture sytem"
      ],
      "metadata": {
        "id": "hS55JpL1X_MC"
      }
    },
    {
      "cell_type": "code",
      "source": [
        "y0 = np.array([0.2, 0.1, 0.3])\n",
        "t, y = euler(socio_ag_deriv, [0.0, 1000], y0, 200000, omega, sigma, delta, ro, C, gamma, theta, a, b, alpha, beta, x0, xm)\n",
        "\n",
        "fig, axs = plt.subplots(1,4, figsize=(20,5))\n",
        "axs[0].plot(t, y[:,0])\n",
        "axs[0].set_ylabel('S')\n",
        "axs[0].set_xlabel('t')\n",
        "#axs[0].set_ylim([0, 1])\n",
        "\n",
        "axs[1].plot(t, y[:,1])\n",
        "axs[1].set_ylabel('X')\n",
        "axs[1].set_xlabel('t')\n",
        "axs[1].set_ylim([0, 1])\n",
        "\n",
        "axs[2].plot(t, y[:,2])\n",
        "axs[2].set_ylabel('Y')\n",
        "axs[2].set_xlabel('t')\n",
        "axs[2].set_ylim([0, 1])\n",
        "\n",
        "axs[3].plot(t, 1-y[:,1]-y[:,2])\n",
        "axs[3].set_ylabel('Z')\n",
        "axs[3].set_xlabel('t')\n",
        "axs[3].set_ylim([0, 1])\n",
        "\n",
        "fig = plt.figure(figsize=(10,10))\n",
        "ax = plt.axes(projection='3d')\n",
        "ax.set_xlabel('S')\n",
        "ax.set_ylabel('X')\n",
        "ax.set_zlabel('Y');\n",
        "\n",
        "ax.plot3D(y[:,0], y[:,1], y[:,2], 'grey')\n",
        "ax.scatter(y[0,0],y[0,1],y[0,2], s=80, facecolors='none', edgecolors='black')\n",
        "ax.scatter(y[-1,0],y[-1,1],y[-1,2], s=320, marker='*', color='black', zorder=3)\n",
        "#ax.set_xlim([0, 1])\n",
        "ax.set_ylim([0, 1])\n",
        "ax.set_zlim([0, 1])\n",
        "ax.view_init(20, -0)"
      ],
      "metadata": {
        "id": "02zyprbWX-Zj"
      },
      "execution_count": null,
      "outputs": []
    },
    {
      "cell_type": "code",
      "source": [],
      "metadata": {
        "id": "RhG5B1k3xlZi"
      },
      "execution_count": null,
      "outputs": []
    },
    {
      "cell_type": "markdown",
      "source": [
        "# Functions need to be run beforhand"
      ],
      "metadata": {
        "id": "H36YKWOC9Ll_"
      }
    },
    {
      "cell_type": "markdown",
      "source": [
        "## An Euler code"
      ],
      "metadata": {
        "id": "8utvSt_IYG2r"
      }
    },
    {
      "cell_type": "code",
      "source": [
        "# INPUT\n",
        "# dydt is the name of a derivative function.\n",
        "# tspan is a vector of length 2. tspan[0] is the start, and tspan[1] the final time.\n",
        "# y0 contains the value of y at the initial time.\n",
        "# n is the number of equal steps to take\n",
        "\n",
        "# OUTPUT\n",
        "# t a vector of length n+1, containing the initial time, and the n later times.\n",
        "# y is a vector of length n+1, containing the initial y0, and the n later estimates.\n",
        "\n",
        "def euler(dydt, tspan, y0, n, omega, sigma, delta, ro, C, gamma, theta, a, b, alpha, beta, x0, xm):\n",
        "  import numpy as np\n",
        "  m = np.size(y0)\n",
        "  t0 = tspan[0]\n",
        "  tstop = tspan[1]\n",
        "  dt = (tstop-t0)/n\n",
        "  t = np.zeros(n+1)\n",
        "  y = np.zeros([n+1, m])\n",
        "  for i in range(0, n+1):\n",
        "    if (i==0):\n",
        "      t[i] = t0\n",
        "      y[i,:] = y0\n",
        "    else:\n",
        "      t[i] = t[i-1] + dt\n",
        "      y[i,:] = y[i-1,:] + dt*(dydt(t[i-1], y[i-1,:], omega, sigma, delta, ro, C, gamma, theta, a, b, alpha, beta, x0, xm))\n",
        "  return t , y"
      ],
      "metadata": {
        "id": "vEcmi1L9YJsa"
      },
      "execution_count": null,
      "outputs": []
    },
    {
      "cell_type": "markdown",
      "source": [
        "## Utility function"
      ],
      "metadata": {
        "id": "LjwmY1gEEa2t"
      }
    },
    {
      "cell_type": "code",
      "source": [
        "def Utility(s, a, b):\n",
        "\n",
        "  if (isinstance(s, np.float64)):\n",
        "    if ((s>=a) & (s<=b)):\n",
        "      U = 4*((s-a)/(b-a))*((b-s)/(b-a))\n",
        "    else:\n",
        "      U = 0\n",
        "\n",
        "  else:\n",
        "    U = np.zeros(len(s))\n",
        "    U[(s>=a) & (s<=b)] = 4*((s[(s>=a) & (s<=b)]-a)/(b-a))*((b-s[(s>=a) & (s<=b)])/(b-a))\n",
        "  return U"
      ],
      "metadata": {
        "id": "Dgal8QOTEeJ9"
      },
      "execution_count": null,
      "outputs": []
    },
    {
      "cell_type": "markdown",
      "source": [
        "## Fine functtion"
      ],
      "metadata": {
        "id": "THBnHlu-Eer-"
      }
    },
    {
      "cell_type": "code",
      "source": [
        "def Fine(x, alpha, beta, x0, xm):\n",
        "\n",
        "  if (isinstance(x, np.float64)):\n",
        "    if ((x>=x0) & (x<=xm)):\n",
        "      F = alpha*x-beta\n",
        "    elif (x<x0):\n",
        "      F = 0\n",
        "    else:\n",
        "      F = 1\n",
        "\n",
        "  else:\n",
        "    F = np.zeros(len(x))\n",
        "    F[x<x0] = 0\n",
        "    F[x>xm] = 1\n",
        "    F[(x>=x0) & (x<=xm)] = alpha*x[(x>=x0) & (x<=xm)]-beta\n",
        "  return F"
      ],
      "metadata": {
        "id": "mfgBpGLeEiBu"
      },
      "execution_count": null,
      "outputs": []
    },
    {
      "cell_type": "code",
      "source": [],
      "metadata": {
        "id": "e1JRxFbPU83Z"
      },
      "execution_count": null,
      "outputs": []
    },
    {
      "cell_type": "markdown",
      "source": [
        "## Socio-Agriculture System"
      ],
      "metadata": {
        "id": "hNf6vpv4EiuN"
      }
    },
    {
      "cell_type": "code",
      "source": [
        "def socio_ag_deriv(t, y, omega, sigma, delta, ro, C, gamma, theta, a, b, alpha, beta, x0, xm):\n",
        "  import numpy as np\n",
        "  s = y[0]\n",
        "  x1 = y[1]\n",
        "  x2 = y[2]\n",
        "\n",
        "  U = Utility(s, a, b)\n",
        "  F = Fine(x1, alpha, beta, x0, xm)\n",
        "\n",
        "  dsdt = 1-((x1+x2)*(1-omega)+omega)*s-sigma*s\n",
        "  dx1dt = delta*(x1*(1-x1)*(ro*U*(1-C*F)-1)-x1*x2*U*((gamma*x1+theta-1)))\n",
        "  dx2dt = delta*(x2*(1-x2)*U*((gamma*x1+theta-1))-x1*x2*(ro*U*(1-C*F)-1))\n",
        "  dydt = np.array([dsdt, dx1dt, dx2dt])\n",
        "  return dydt"
      ],
      "metadata": {
        "id": "w5XAcsi1KfO_"
      },
      "execution_count": null,
      "outputs": []
    },
    {
      "cell_type": "code",
      "source": [],
      "metadata": {
        "id": "8l7kNgL14mZv"
      },
      "execution_count": null,
      "outputs": []
    }
  ]
}