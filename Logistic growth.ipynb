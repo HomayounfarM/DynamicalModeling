{
  "nbformat": 4,
  "nbformat_minor": 0,
  "metadata": {
    "colab": {
      "private_outputs": true,
      "provenance": [],
      "authorship_tag": "ABX9TyOrkr/dn4YzUg5d3yFdSyK/",
      "include_colab_link": true
    },
    "kernelspec": {
      "name": "python3",
      "display_name": "Python 3"
    },
    "language_info": {
      "name": "python"
    }
  },
  "cells": [
    {
      "cell_type": "markdown",
      "metadata": {
        "id": "view-in-github",
        "colab_type": "text"
      },
      "source": [
        "<a href=\"https://colab.research.google.com/github/HomayounfarM/DynamicalModeling/blob/main/Logistic%20growth.ipynb\" target=\"_parent\"><img src=\"https://colab.research.google.com/assets/colab-badge.svg\" alt=\"Open In Colab\"/></a>"
      ]
    },
    {
      "cell_type": "code",
      "execution_count": null,
      "metadata": {
        "id": "ftfvVnrwZSnh"
      },
      "outputs": [],
      "source": []
    },
    {
      "cell_type": "code",
      "source": [
        "# INPUT\n",
        "# dydt is the name of a derivative function.\n",
        "# tspan is a vector of length 2. tspan[0] is the start, and tspan[1] the final time.\n",
        "# y0 contains the value of y at the initial time.\n",
        "# n is the number of equal steps to take\n",
        "\n",
        "# OUTPUT\n",
        "# t a vector of length n+1, containing the initial time, and the n later times.\n",
        "# y is a vector of length n+1, containing the initial y0, and the n later estimates.\n",
        "\n",
        "t, y = euler(logistic_deriv, [-5.0, 5.0], -0.001, 10)\n",
        "t1, y1 = euler(logistic_deriv, [-5.0, 5.0], 0.01, 10)\n",
        "t3, y3 = euler(logistic_deriv, [-5.0, 5.0], 1.5, 20)\n",
        "import matplotlib.pyplot as plt\n",
        "import numpy as np\n",
        "plt.plot(t, y)\n",
        "plt.plot(t1, y1)\n",
        "plt.plot(t3, y3)\n",
        "t2 = np.linspace(-8.0, 8.0, 101)\n",
        "y2 = logistic_exact(t2)\n",
        "plt.plot(t, y, \"r.\")\n",
        "plt.plot(t2, y2, \"b-\")\n",
        "plt.show( )"
      ],
      "metadata": {
        "id": "MilT7aQGgIRY"
      },
      "execution_count": null,
      "outputs": []
    },
    {
      "cell_type": "markdown",
      "source": [
        "##An Euler code\n"
      ],
      "metadata": {
        "id": "I67tbouCZaQl"
      }
    },
    {
      "cell_type": "code",
      "source": [
        "# INPUT\n",
        "# dydt is the name of a derivative function.\n",
        "# tspan is a vector of length 2. tspan[0] is the start, and tspan[1] the final time.\n",
        "# y0 contains the value of y at the initial time.\n",
        "# n is the number of equal steps to take\n",
        "\n",
        "# OUTPUT\n",
        "# t a vector of length n+1, containing the initial time, and the n later times.\n",
        "# y is a vector of length n+1, containing the initial y0, and the n later estimates.\n",
        "\n",
        "def euler(dydt, tspan, y0, n):\n",
        "  import numpy as np\n",
        "  m = np.size(y0)\n",
        "  t0 = tspan[0]\n",
        "  tstop = tspan[1]\n",
        "  dt = (tstop-t0)/n\n",
        "  t = np.zeros(n+1)\n",
        "  y = np.zeros([n+1, m])\n",
        "  for i in range(0, n+1):\n",
        "    if (i==0):\n",
        "      t[i] = t0\n",
        "      y[i,:] = y0\n",
        "    else:\n",
        "      t[i] = t[i-1] + dt\n",
        "      y[i,:] = y[i-1,:] + dt*(dydt(t[i-1], y[i-1,:]))\n",
        "  return t , y\n"
      ],
      "metadata": {
        "id": "3pPivXY_Ze7G"
      },
      "execution_count": null,
      "outputs": []
    },
    {
      "cell_type": "markdown",
      "source": [
        "## Logistic ODE"
      ],
      "metadata": {
        "id": "rboKeEG_fBOD"
      }
    },
    {
      "cell_type": "code",
      "source": [
        "def logistic_deriv(t, y):\n",
        "  r = 1\n",
        "  k = 1\n",
        "  dydt = r*y*(1.0-y/k)\n",
        "  return dydt"
      ],
      "metadata": {
        "id": "xHgYx3Q4fGmL"
      },
      "execution_count": null,
      "outputs": []
    },
    {
      "cell_type": "markdown",
      "source": [
        "## Exact solution of the Logistic equation"
      ],
      "metadata": {
        "id": "tGRTgQpJfhs8"
      }
    },
    {
      "cell_type": "code",
      "source": [
        "def logistic_exact(t):\n",
        "  import numpy as np\n",
        "  r = 1\n",
        "  k = 1\n",
        "  y0 = 0.1\n",
        "  y = (k*y0*np.exp(r*t))/(k+y0*(np.exp(r*t)-1.0))\n",
        "  return y"
      ],
      "metadata": {
        "id": "jaLUD9P2fg_S"
      },
      "execution_count": null,
      "outputs": []
    }
  ]
}