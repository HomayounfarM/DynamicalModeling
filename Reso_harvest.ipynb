{
  "nbformat": 4,
  "nbformat_minor": 0,
  "metadata": {
    "colab": {
      "private_outputs": true,
      "provenance": [],
      "authorship_tag": "ABX9TyNk83DfJwIzzJZjRndXKFJb",
      "include_colab_link": true
    },
    "kernelspec": {
      "name": "python3",
      "display_name": "Python 3"
    },
    "language_info": {
      "name": "python"
    }
  },
  "cells": [
    {
      "cell_type": "markdown",
      "metadata": {
        "id": "view-in-github",
        "colab_type": "text"
      },
      "source": [
        "<a href=\"https://colab.research.google.com/github/HomayounfarM/DynamicalModeling/blob/main/Reso_harvest.ipynb\" target=\"_parent\"><img src=\"https://colab.research.google.com/assets/colab-badge.svg\" alt=\"Open In Colab\"/></a>"
      ]
    },
    {
      "cell_type": "code",
      "execution_count": null,
      "metadata": {
        "id": "XcHL19SP-Hmv"
      },
      "outputs": [],
      "source": [
        "# INPUT\n",
        "# dydt is the name of a derivative function.\n",
        "# tspan is a vector of length 2. tspan[0] is the start, and tspan[1] the final time.\n",
        "# y0 contains the value of y at the initial time.\n",
        "# n is the number of equal steps to take\n",
        "# We really don’t know how to choose a good value of n, so we have to experiment. By repeatedly increasing\n",
        "# this value, at around n=200, we get a solution plot that suggests an interesting pattern in the data:\n",
        "\n",
        "# OUTPUT\n",
        "# t a vector of length n+1, containing the initial time, and the n later times.\n",
        "# y is a vector of length n+1, containing the initial y0, and the n later estimates.\n",
        "import numpy as np\n",
        "c = .2\n",
        "gamma = 0.8\n",
        "beta = 1\n",
        "y0 = np.array([0.4, 0.5])\n",
        "t, y = euler(reso_harvest_deriv, [0.0, 200], y0, 20000, c, gamma, beta)\n",
        "import matplotlib.pyplot as plt\n",
        "import numpy as np\n",
        "fig, axs = plt.subplots(1,2, figsize=(15,5))\n",
        "axs[0].plot(t, y)\n",
        "axs[0].set_xlabel('X, Y')\n",
        "axs[0].set_ylabel('t')\n",
        "axs[1].plot(y[:,0], y[:,1], 'g')\n",
        "axs[1].scatter(y[0,0],y[0,1], s=80, facecolors='none', edgecolors='black')\n",
        "axs[1].scatter(y[-1,0],y[-1,1], s=320, marker='*', color='black', zorder=3)\n",
        "#plt.plot(t1, y1)\n",
        "#plt.plot(t3, y3)\n",
        "#plt.plot(t, y, \"r.\")\n",
        "#plt.plot(t2, y2, \"b-\")\n",
        "axs[1].set_xlabel('X')\n",
        "axs[1].set_ylabel('Y')\n",
        "\n",
        "# X-isocline\n",
        "axs[1].vlines(x = 0, ymin = -0.1, ymax = max([1, 2.5]),\n",
        "           colors = 'blue',\n",
        "           label = 'vline_multiple - full height')\n",
        "\n",
        "x_temp = np.linspace(-0.0, 2, 100)\n",
        "y2 = (1-x_temp)*((x_temp/c)-1)\n",
        "axs[1].plot(x_temp, y2, 'b')\n",
        "\n",
        "# y-isocline\n",
        "axs[1].hlines(y = 0, xmin = -0.1, xmax = max([1, 1.5]),\n",
        "           colors = 'red',\n",
        "           label = 'vline_multiple - full height')\n",
        "\n",
        "axs[1].vlines(x = gamma, ymin = -0.1, ymax = max([1,2.5]),\n",
        "           colors = 'red',\n",
        "           label = 'vline_multiple - full height')\n",
        "\n",
        "plt.ylim(bottom=-0.1)\n",
        "plt.xlim(left=-0.1)\n",
        "plt.ylim(top=3)\n",
        "plt.xlim(right=1.5)\n",
        "plt.show()"
      ]
    },
    {
      "cell_type": "code",
      "source": [],
      "metadata": {
        "id": "suOVBOvtITyq"
      },
      "execution_count": null,
      "outputs": []
    },
    {
      "cell_type": "markdown",
      "source": [
        "##An Euler code"
      ],
      "metadata": {
        "id": "vfzCLmKo-UeL"
      }
    },
    {
      "cell_type": "code",
      "source": [
        "# INPUT\n",
        "# dydt is the name of a derivative function.\n",
        "# tspan is a vector of length 2. tspan[0] is the start, and tspan[1] the final time.\n",
        "# y0 contains the value of y at the initial time.\n",
        "# n is the number of equal steps to take\n",
        "\n",
        "# OUTPUT\n",
        "# t a vector of length n+1, containing the initial time, and the n later times.\n",
        "# y is a vector of length n+1, containing the initial y0, and the n later estimates.\n",
        "\n",
        "def euler(dydt, tspan, y0, n, c, gamma, beta):\n",
        "  import numpy as np\n",
        "  m = np.size(y0)\n",
        "  t0 = tspan[0]\n",
        "  tstop = tspan[1]\n",
        "  dt = (tstop-t0)/n\n",
        "  t = np.zeros(n+1)\n",
        "  y = np.zeros([n+1, m])\n",
        "  for i in range(0, n+1):\n",
        "    if (i==0):\n",
        "      t[i] = t0\n",
        "      y[i,:] = y0\n",
        "    else:\n",
        "      t[i] = t[i-1] + dt\n",
        "      y[i,:] = y[i-1,:] + dt*(dydt(t[i-1], y[i-1,:], c, gamma, beta))\n",
        "  return t , y"
      ],
      "metadata": {
        "id": "dbRclha6-U8r"
      },
      "execution_count": null,
      "outputs": []
    },
    {
      "cell_type": "code",
      "source": [],
      "metadata": {
        "id": "LU44fBbT-ddb"
      },
      "execution_count": null,
      "outputs": []
    },
    {
      "cell_type": "code",
      "source": [
        "def reso_harvest_deriv(t, y, c, gamma, beta):\n",
        "  import numpy as np\n",
        "  r = y[0]\n",
        "  f = y[1]\n",
        "\n",
        "  drdt = r*(1-r)*((r/c)-1)-r*f\n",
        "  dfdt = beta*f*(r-gamma)\n",
        "  dydt = np.array([drdt, dfdt])\n",
        "  return dydt"
      ],
      "metadata": {
        "id": "shwd_izjT4yI"
      },
      "execution_count": null,
      "outputs": []
    }
  ]
}