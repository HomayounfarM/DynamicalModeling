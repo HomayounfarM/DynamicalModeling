{
  "nbformat": 4,
  "nbformat_minor": 0,
  "metadata": {
    "colab": {
      "private_outputs": true,
      "provenance": [],
      "authorship_tag": "ABX9TyNGSBAwZQxxlMo3inU5tVpw",
      "include_colab_link": true
    },
    "kernelspec": {
      "name": "python3",
      "display_name": "Python 3"
    },
    "language_info": {
      "name": "python"
    }
  },
  "cells": [
    {
      "cell_type": "markdown",
      "metadata": {
        "id": "view-in-github",
        "colab_type": "text"
      },
      "source": [
        "<a href=\"https://colab.research.google.com/github/HomayounfarM/DynamicalModeling/blob/main/Reso_harvest.ipynb\" target=\"_parent\"><img src=\"https://colab.research.google.com/assets/colab-badge.svg\" alt=\"Open In Colab\"/></a>"
      ]
    },
    {
      "cell_type": "code",
      "execution_count": null,
      "metadata": {
        "id": "XcHL19SP-Hmv"
      },
      "outputs": [],
      "source": [
        "# INPUT\n",
        "# dydt is the name of a derivative function.\n",
        "# tspan is a vector of length 2. tspan[0] is the start, and tspan[1] the final time.\n",
        "# y0 contains the value of y at the initial time.\n",
        "# n is the number of equal steps to take\n",
        "# We really don’t know how to choose a good value of n, so we have to experiment. By repeatedly increasing\n",
        "# this value, at around n=200, we get a solution plot that suggests an interesting pattern in the data:\n",
        "\n",
        "# OUTPUT\n",
        "# t a vector of length n+1, containing the initial time, and the n later times.\n",
        "# y is a vector of length n+1, containing the initial y0, and the n later estimates.\n",
        "import numpy as np\n",
        "y0 = np.array([0.9, 0.1])\n",
        "t, y = euler(reso_harvest_deriv, [0.0, 20], y0, 50000)\n",
        "import matplotlib.pyplot as plt\n",
        "import numpy as np\n",
        "fig, (ax0, ax1) = plt.subplots(1,2, figsize=(15,5))\n",
        "ax0.plot(t, y)\n",
        "ax1.plot(y[:,0], y[:,1])\n",
        "#plt.plot(t1, y1)\n",
        "#plt.plot(t3, y3)\n",
        "#t2 = np.linspace(-8.0, 8.0, 101)\n",
        "#y2 = logistic_exact(t2)\n",
        "#plt.plot(t, y, \"r.\")\n",
        "#plt.plot(t2, y2, \"b-\")\n",
        "plt.show()"
      ]
    },
    {
      "cell_type": "markdown",
      "source": [
        "##An Euler code"
      ],
      "metadata": {
        "id": "vfzCLmKo-UeL"
      }
    },
    {
      "cell_type": "code",
      "source": [
        "# INPUT\n",
        "# dydt is the name of a derivative function.\n",
        "# tspan is a vector of length 2. tspan[0] is the start, and tspan[1] the final time.\n",
        "# y0 contains the value of y at the initial time.\n",
        "# n is the number of equal steps to take\n",
        "\n",
        "# OUTPUT\n",
        "# t a vector of length n+1, containing the initial time, and the n later times.\n",
        "# y is a vector of length n+1, containing the initial y0, and the n later estimates.\n",
        "\n",
        "def euler(dydt, tspan, y0, n):\n",
        "  import numpy as np\n",
        "  m = np.size(y0)\n",
        "  t0 = tspan[0]\n",
        "  tstop = tspan[1]\n",
        "  dt = (tstop-t0)/n\n",
        "  t = np.zeros(n+1)\n",
        "  y = np.zeros([n+1, m])\n",
        "  for i in range(0, n+1):\n",
        "    if (i==0):\n",
        "      t[i] = t0\n",
        "      y[i,:] = y0\n",
        "    else:\n",
        "      t[i] = t[i-1] + dt\n",
        "      y[i,:] = y[i-1,:] + dt*(dydt(t[i-1], y[i-1,:]))\n",
        "  return t , y"
      ],
      "metadata": {
        "id": "dbRclha6-U8r"
      },
      "execution_count": null,
      "outputs": []
    },
    {
      "cell_type": "code",
      "source": [],
      "metadata": {
        "id": "LU44fBbT-ddb"
      },
      "execution_count": null,
      "outputs": []
    },
    {
      "cell_type": "code",
      "source": [
        "def reso_harvest_deriv(t, y):\n",
        "  import numpy as np\n",
        "  r = y[0]\n",
        "  f = y[1]\n",
        "  c = 0.1\n",
        "  gamma = 0.8\n",
        "  beta = 1\n",
        "  drdt = r*(1-r)*((r/c)-1)-r*f\n",
        "  dfdt = beta*f*(r-gamma)\n",
        "  dydt = np.array([drdt, dfdt])\n",
        "  return dydt"
      ],
      "metadata": {
        "id": "shwd_izjT4yI"
      },
      "execution_count": null,
      "outputs": []
    }
  ]
}